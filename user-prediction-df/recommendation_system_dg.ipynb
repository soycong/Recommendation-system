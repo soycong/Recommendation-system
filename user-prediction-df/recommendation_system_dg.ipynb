{
  "nbformat": 4,
  "nbformat_minor": 0,
  "metadata": {
    "colab": {
      "name": "recommendation_system_dg.ipynb",
      "private_outputs": true,
      "provenance": [],
      "collapsed_sections": [],
      "toc_visible": true,
      "mount_file_id": "12BDSQGiT3EeZGktFVEvQV0beL6ny0g56",
      "authorship_tag": "ABX9TyPt2CBV/sDWaJ0TLdsBSNaG",
      "include_colab_link": true
    },
    "kernelspec": {
      "name": "python3",
      "display_name": "Python 3"
    },
    "language_info": {
      "name": "python"
    },
    "accelerator": "GPU"
  },
  "cells": [
    {
      "cell_type": "markdown",
      "metadata": {
        "id": "view-in-github",
        "colab_type": "text"
      },
      "source": [
        "<a href=\"https://colab.research.google.com/github/soycong/Recommendation-system/blob/main/recommendation_system_dg.ipynb\" target=\"_parent\"><img src=\"https://colab.research.google.com/assets/colab-badge.svg\" alt=\"Open In Colab\"/></a>"
      ]
    },
    {
      "cell_type": "code",
      "metadata": {
        "id": "IW0TWZvmWaRd"
      },
      "source": [
        "from sklearn.decomposition import TruncatedSVD\n",
        "from scipy.sparse.linalg import svds\n",
        "\n",
        "import matplotlib.pyplot as plt\n",
        "import seaborn as sns\n",
        "import pandas as pd\n",
        "import numpy as np\n",
        "import warnings\n",
        "warnings.filterwarnings(\"ignore\")"
      ],
      "execution_count": null,
      "outputs": []
    },
    {
      "cell_type": "code",
      "metadata": {
        "id": "S9jK2ArDXrlg"
      },
      "source": [
        "rating_data = pd.read_csv('/content/drive/MyDrive/Colab Notebooks/ratings.csv')\n",
        "movie_data = pd.read_csv('/content/drive/MyDrive/Colab Notebooks/movies.csv')"
      ],
      "execution_count": null,
      "outputs": []
    },
    {
      "cell_type": "markdown",
      "metadata": {
        "id": "zeB6etEQlMEx"
      },
      "source": [
        "# 데이터 살펴보기"
      ]
    },
    {
      "cell_type": "code",
      "metadata": {
        "id": "7Me6WWatXtbO"
      },
      "source": [
        "rating_data.head()"
      ],
      "execution_count": null,
      "outputs": []
    },
    {
      "cell_type": "code",
      "metadata": {
        "id": "SkOQS1jXXu0R"
      },
      "source": [
        "movie_data.head()"
      ],
      "execution_count": null,
      "outputs": []
    },
    {
      "cell_type": "code",
      "metadata": {
        "id": "PEEYaSkbXwXo"
      },
      "source": [
        "movie_data.drop('genres', axis = 1, inplace = True)\n",
        "movie_data.head()"
      ],
      "execution_count": null,
      "outputs": []
    },
    {
      "cell_type": "code",
      "metadata": {
        "id": "WJQslpOxYOWC"
      },
      "source": [
        "user_movie_data = pd.merge(rating_data, movie_data, on = 'movieId')\n",
        "user_movie_data.head()\n",
        "#user_movie_data.shape"
      ],
      "execution_count": null,
      "outputs": []
    },
    {
      "cell_type": "markdown",
      "metadata": {
        "id": "EnZtFxdBYXG8"
      },
      "source": [
        "# timestamp\n",
        "# 'hour'만 남기기"
      ]
    },
    {
      "cell_type": "code",
      "metadata": {
        "id": "-Kw_75RmYP46"
      },
      "source": [
        "user_movie_data.timestamp"
      ],
      "execution_count": null,
      "outputs": []
    },
    {
      "cell_type": "code",
      "metadata": {
        "id": "UBxyVS6RYTA1"
      },
      "source": [
        "from datetime import datetime\n",
        "\n",
        "user_movie_data['timestamp']= user_movie_data['timestamp'].values.astype(dtype='int')\n",
        "\n",
        "user_movie_data['timestamp']=[datetime.fromtimestamp(x).strftime('%H') for x in user_movie_data['timestamp']]\n"
      ],
      "execution_count": null,
      "outputs": []
    },
    {
      "cell_type": "code",
      "metadata": {
        "id": "i4FdWlbwfEBl"
      },
      "source": [
        "#timestamp object 형태\n",
        "user_movie_data"
      ],
      "execution_count": null,
      "outputs": []
    },
    {
      "cell_type": "code",
      "metadata": {
        "id": "RqNC1ScHy5u-"
      },
      "source": [
        "user_movie_data['timestamp'].astype(int)"
      ],
      "execution_count": null,
      "outputs": []
    },
    {
      "cell_type": "markdown",
      "metadata": {
        "id": "iGVJwpAFlHs8"
      },
      "source": [
        "# 유저별 정렬\n",
        "# 유저별 최빈값 시간 idsort"
      ]
    },
    {
      "cell_type": "code",
      "metadata": {
        "id": "_kYgfAOQYU6s"
      },
      "source": [
        "idsort=user_movie_data.sort_values(by=['userId'])\n",
        "idsort.head()"
      ],
      "execution_count": null,
      "outputs": []
    },
    {
      "cell_type": "code",
      "metadata": {
        "id": "G2pkDxBq0VD0"
      },
      "source": [
        "#idsort=idsort['timestamp'].groupby(idsort['userId']).mean()\n",
        "\n",
        "#df.groupby('gender')['region'].agg(**{'most_common_value':lambda x:x.mode()}).reset_index()\n",
        "\n",
        "idsort=idsort.groupby('userId')['timestamp'].agg(lambda x:x.mode()).reset_index()\n"
      ],
      "execution_count": null,
      "outputs": []
    },
    {
      "cell_type": "code",
      "metadata": {
        "id": "O6NEzYZctdKj"
      },
      "source": [
        "idsort"
      ],
      "execution_count": null,
      "outputs": []
    },
    {
      "cell_type": "code",
      "metadata": {
        "id": "wXlkMETnt-L4"
      },
      "source": [
        "idsort.set_index('userId', inplace = True)\n",
        "\n",
        "idsort"
      ],
      "execution_count": null,
      "outputs": []
    },
    {
      "cell_type": "code",
      "metadata": {
        "id": "WwNJ8MqqWxXb"
      },
      "source": [
        "print(len(idsort))"
      ],
      "execution_count": null,
      "outputs": []
    },
    {
      "cell_type": "markdown",
      "metadata": {
        "id": "y-lDUSc7vS_Q"
      },
      "source": [
        ""
      ]
    },
    {
      "cell_type": "markdown",
      "metadata": {
        "id": "vQfjdmek70Vk"
      },
      "source": [
        "# 추천시스템"
      ]
    },
    {
      "cell_type": "code",
      "metadata": {
        "id": "-G4aBdHG5jIM"
      },
      "source": [
        "user_movie_rating = user_movie_data.pivot_table('rating', index = 'userId', columns='title').fillna(0)"
      ],
      "execution_count": null,
      "outputs": []
    },
    {
      "cell_type": "code",
      "metadata": {
        "id": "FyPj57_287v1"
      },
      "source": [
        "user_movie_rating.head()"
      ],
      "execution_count": null,
      "outputs": []
    },
    {
      "cell_type": "code",
      "metadata": {
        "id": "o70VpZoS87-O"
      },
      "source": [
        "movie_user_rating = user_movie_rating.values.T"
      ],
      "execution_count": null,
      "outputs": []
    },
    {
      "cell_type": "code",
      "metadata": {
        "id": "NZI3yexb89W6"
      },
      "source": [
        "SVD = TruncatedSVD(n_components=12)\n",
        "matrix = SVD.fit_transform(movie_user_rating)\n",
        "matrix.shape"
      ],
      "execution_count": null,
      "outputs": []
    },
    {
      "cell_type": "code",
      "metadata": {
        "id": "0kDTcFOE9CTz"
      },
      "source": [
        "matrix[0]"
      ],
      "execution_count": null,
      "outputs": []
    },
    {
      "cell_type": "code",
      "metadata": {
        "id": "FwXm17Kz9D8r"
      },
      "source": [
        "corr = np.corrcoef(matrix)\n",
        "corr.shape"
      ],
      "execution_count": null,
      "outputs": []
    },
    {
      "cell_type": "code",
      "metadata": {
        "id": "IT0f2dhn9FZh"
      },
      "source": [
        "corr2 = corr[:200, :200]\n",
        "corr2.shape"
      ],
      "execution_count": null,
      "outputs": []
    },
    {
      "cell_type": "code",
      "metadata": {
        "id": "FVZadIao9Ga_"
      },
      "source": [
        "plt.figure(figsize=(16, 10))\n",
        "sns.heatmap(corr2)"
      ],
      "execution_count": null,
      "outputs": []
    },
    {
      "cell_type": "code",
      "metadata": {
        "id": "xY7Scsyx9HRH"
      },
      "source": [
        "movie_title = user_movie_rating.columns\n",
        "movie_title_list = list(movie_title)\n",
        "coffey_hands = movie_title_list.index(\"Guardians of the Galaxy (2014)\")"
      ],
      "execution_count": null,
      "outputs": []
    },
    {
      "cell_type": "code",
      "metadata": {
        "id": "-NRZXgJa9I5O"
      },
      "source": [
        "corr_coffey_hands  = corr[coffey_hands]\n",
        "list(movie_title[(corr_coffey_hands >= 0.9)])[:50]"
      ],
      "execution_count": null,
      "outputs": []
    },
    {
      "cell_type": "code",
      "metadata": {
        "id": "7_ituXLt9Kiz"
      },
      "source": [
        "\n",
        "df_ratings = pd.read_csv('/content/drive/MyDrive/Colab Notebooks/ratings.csv')\n",
        "df_movies = pd.read_csv('/content/drive/MyDrive/Colab Notebooks/movies.csv')"
      ],
      "execution_count": null,
      "outputs": []
    },
    {
      "cell_type": "code",
      "metadata": {
        "id": "_RqX0u-F9ScJ"
      },
      "source": [
        "df_user_movie_ratings = df_ratings.pivot(\n",
        "    index='userId',\n",
        "    columns='movieId',\n",
        "    values='rating'\n",
        ").fillna(0)"
      ],
      "execution_count": null,
      "outputs": []
    },
    {
      "cell_type": "code",
      "metadata": {
        "id": "8fsImF2S9TWt"
      },
      "source": [
        "df_user_movie_ratings.head()"
      ],
      "execution_count": null,
      "outputs": []
    },
    {
      "cell_type": "code",
      "metadata": {
        "id": "jsgbRsJw9ULc"
      },
      "source": [
        "# matrix는 pivot_table 값을 numpy matrix로 만든 것 \n",
        "matrix = df_user_movie_ratings.to_numpy()\n",
        "\n",
        "# user_ratings_mean은 사용자의 평균 평점 \n",
        "user_ratings_mean = np.mean(matrix, axis = 1)\n",
        "\n",
        "# R_user_mean : 사용자-영화에 대해 사용자 평균 평점을 뺀 것.\n",
        "matrix_user_mean = matrix - user_ratings_mean.reshape(-1, 1)"
      ],
      "execution_count": null,
      "outputs": []
    },
    {
      "cell_type": "code",
      "metadata": {
        "id": "_q3JthdC9VaU"
      },
      "source": [
        "matrix"
      ],
      "execution_count": null,
      "outputs": []
    },
    {
      "cell_type": "code",
      "metadata": {
        "id": "xH22--WK9WS-"
      },
      "source": [
        "pd.DataFrame(matrix_user_mean, columns = df_user_movie_ratings.columns).head()"
      ],
      "execution_count": null,
      "outputs": []
    },
    {
      "cell_type": "code",
      "metadata": {
        "id": "t-siQ65-9YOG"
      },
      "source": [
        "# scipy에서 제공해주는 svd.  \n",
        "# U 행렬, sigma 행렬, V 전치 행렬을 반환.\n",
        "\n",
        "U, sigma, Vt = svds(matrix_user_mean, k = 12)"
      ],
      "execution_count": null,
      "outputs": []
    },
    {
      "cell_type": "code",
      "metadata": {
        "id": "3ABS--Kp9aHB"
      },
      "source": [
        "sigma = np.diag(sigma)\n",
        "sigma[0]"
      ],
      "execution_count": null,
      "outputs": []
    },
    {
      "cell_type": "code",
      "metadata": {
        "id": "o3pXM5Wd9c3g"
      },
      "source": [
        "# U, Sigma, Vt의 내적을 수행하면, 다시 원본 행렬로 복원이 된다. \n",
        "# 거기에 + 사용자 평균 rating을 적용한다. \n",
        "svd_user_predicted_ratings = np.dot(np.dot(U, sigma), Vt) + user_ratings_mean.reshape(-1, 1)"
      ],
      "execution_count": null,
      "outputs": []
    },
    {
      "cell_type": "code",
      "metadata": {
        "id": "lnyWg-fA9eI7"
      },
      "source": [
        "df_svd_preds = pd.DataFrame(svd_user_predicted_ratings, columns = df_user_movie_ratings.columns)\n",
        "df_svd_preds.head()"
      ],
      "execution_count": null,
      "outputs": []
    },
    {
      "cell_type": "code",
      "metadata": {
        "id": "ZVRrJRRe9fOV"
      },
      "source": [
        "df_svd_preds.shape"
      ],
      "execution_count": null,
      "outputs": []
    },
    {
      "cell_type": "code",
      "metadata": {
        "id": "vwgZLagry9kS"
      },
      "source": [
        "def prtime(user_id):\n",
        "    rtime=idsort.loc[[user_id],['timestamp']]\n",
        "    return rtime"
      ],
      "execution_count": null,
      "outputs": []
    },
    {
      "cell_type": "code",
      "metadata": {
        "id": "NF5epUlg9hGV"
      },
      "source": [
        "def recommend_movies(df_svd_preds, user_id, ori_movies_df, ori_ratings_df, num_recommendations=5):\n",
        "    \n",
        "    #현재는 index로 적용이 되어있으므로 user_id - 1을 해야함.\n",
        "    user_row_number = user_id - 1 \n",
        "    \n",
        "    # 최종적으로 만든 pred_df에서 사용자 index에 따라 영화 데이터 정렬 -> 영화 평점이 높은 순으로 정렬 됌\n",
        "    sorted_user_predictions = df_svd_preds.iloc[user_row_number].sort_values(ascending=False)\n",
        "    \n",
        "    # 원본 평점 데이터에서 user id에 해당하는 데이터를 뽑아낸다. \n",
        "    user_data = ori_ratings_df[ori_ratings_df.userId == user_id]\n",
        "    \n",
        "    # 위에서 뽑은 user_data와 원본 영화 데이터를 합친다. \n",
        "    user_history = user_data.merge(ori_movies_df, on = 'movieId').sort_values(['rating'], ascending=False)\n",
        "    \n",
        "    # 원본 영화 데이터에서 사용자가 본 영화 데이터를 제외한 데이터를 추출\n",
        "    recommendations = ori_movies_df[~ori_movies_df['movieId'].isin(user_history['movieId'])]\n",
        "    # 사용자의 영화 평점이 높은 순으로 정렬된 데이터와 위 recommendations을 합친다. \n",
        "    recommendations = recommendations.merge( pd.DataFrame(sorted_user_predictions).reset_index(), on = 'movieId')\n",
        "    # 컬럼 이름 바꾸고 정렬해서 return\n",
        "    recommendations = recommendations.rename(columns = {user_row_number: 'Predictions'}).sort_values('Predictions', ascending = False).iloc[:num_recommendations, :]\n",
        "\n",
        "    #print(prtime(user_id))\n",
        "\n",
        "    return user_history, recommendations"
      ],
      "execution_count": null,
      "outputs": []
    },
    {
      "cell_type": "code",
      "metadata": {
        "id": "ajD4eU379hXc"
      },
      "source": [
        "already_rated, predictions = recommend_movies(df_svd_preds, 1, df_movies, df_ratings, 10)"
      ],
      "execution_count": null,
      "outputs": []
    },
    {
      "cell_type": "code",
      "metadata": {
        "id": "JHQcctrE9ib2"
      },
      "source": [
        "already_rated.head(10)"
      ],
      "execution_count": null,
      "outputs": []
    },
    {
      "cell_type": "code",
      "metadata": {
        "id": "K4y3WdOx9jSc"
      },
      "source": [
        "predictions"
      ],
      "execution_count": null,
      "outputs": []
    },
    {
      "cell_type": "code",
      "metadata": {
        "id": "I-MDWfhU9kbU"
      },
      "source": [
        "idsort.loc[[1],['timestamp']]"
      ],
      "execution_count": null,
      "outputs": []
    },
    {
      "cell_type": "code",
      "metadata": {
        "id": "MyRhgEXxt5P5"
      },
      "source": [
        "idsort.loc[1]"
      ],
      "execution_count": null,
      "outputs": []
    },
    {
      "cell_type": "markdown",
      "metadata": {
        "id": "THgc0GTFvgwy"
      },
      "source": [
        "# 유저마다 상위 영화 5개 data frame (user-prediction data frame) "
      ]
    },
    {
      "cell_type": "code",
      "metadata": {
        "id": "InfJ-RAUwHVU"
      },
      "source": [
        "print(predictions.head(5).title)"
      ],
      "execution_count": null,
      "outputs": []
    },
    {
      "cell_type": "code",
      "metadata": {
        "id": "TW8IIre3ugD2"
      },
      "source": [
        "titlelist=list(predictions.head(5).title)\n",
        "print(titlelist)"
      ],
      "execution_count": null,
      "outputs": []
    },
    {
      "cell_type": "code",
      "metadata": {
        "id": "69dPC-rbcjKy"
      },
      "source": [
        "usern=len(idsort)+1\n",
        "usern"
      ],
      "execution_count": null,
      "outputs": []
    },
    {
      "cell_type": "code",
      "metadata": {
        "id": "BgXvCUDagX0F"
      },
      "source": [
        "uppermovie=pd.DataFrame(columns=['title'])\n",
        "uppermovie"
      ],
      "execution_count": null,
      "outputs": []
    },
    {
      "cell_type": "code",
      "metadata": {
        "id": "G8gFP5fzWCml"
      },
      "source": [
        "for i in range(1,usern):\n",
        "    already_rated, predictions = recommend_movies(df_svd_preds, i, df_movies, df_ratings, 10)\n",
        "    titlelist=list(predictions.head(5).title)\n",
        "    uppermovie.loc[i]=[titlelist]\n",
        "\n",
        "uppermovie\n",
        "\n",
        "\n"
      ],
      "execution_count": null,
      "outputs": []
    },
    {
      "cell_type": "code",
      "metadata": {
        "id": "hafyjm1ccU8F"
      },
      "source": [
        ""
      ],
      "execution_count": null,
      "outputs": []
    }
  ]
}
