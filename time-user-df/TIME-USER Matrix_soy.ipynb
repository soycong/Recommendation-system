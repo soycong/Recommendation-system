{
 "cells": [
  {
   "cell_type": "code",
   "execution_count": 1,
   "metadata": {},
   "outputs": [],
   "source": [
    "from sklearn.decomposition import TruncatedSVD\n",
    "from scipy.sparse.linalg import svds\n",
    "\n",
    "import matplotlib.pyplot as plt\n",
    "import seaborn as sns\n",
    "import pandas as pd\n",
    "import numpy as np\n",
    "import warnings\n",
    "warnings.filterwarnings(\"ignore\")"
   ]
  },
  {
   "cell_type": "code",
   "execution_count": 3,
   "metadata": {},
   "outputs": [],
   "source": [
    "rd = pd.read_csv('./data/ml-latest/ratings.csv')"
   ]
  },
  {
   "cell_type": "code",
   "execution_count": 4,
   "metadata": {},
   "outputs": [
    {
     "data": {
      "text/html": [
       "<div>\n",
       "<style scoped>\n",
       "    .dataframe tbody tr th:only-of-type {\n",
       "        vertical-align: middle;\n",
       "    }\n",
       "\n",
       "    .dataframe tbody tr th {\n",
       "        vertical-align: top;\n",
       "    }\n",
       "\n",
       "    .dataframe thead th {\n",
       "        text-align: right;\n",
       "    }\n",
       "</style>\n",
       "<table border=\"1\" class=\"dataframe\">\n",
       "  <thead>\n",
       "    <tr style=\"text-align: right;\">\n",
       "      <th></th>\n",
       "      <th>userId</th>\n",
       "      <th>movieId</th>\n",
       "      <th>rating</th>\n",
       "      <th>timestamp</th>\n",
       "    </tr>\n",
       "  </thead>\n",
       "  <tbody>\n",
       "    <tr>\n",
       "      <th>0</th>\n",
       "      <td>1</td>\n",
       "      <td>307</td>\n",
       "      <td>3.5</td>\n",
       "      <td>1256677221</td>\n",
       "    </tr>\n",
       "    <tr>\n",
       "      <th>1</th>\n",
       "      <td>1</td>\n",
       "      <td>481</td>\n",
       "      <td>3.5</td>\n",
       "      <td>1256677456</td>\n",
       "    </tr>\n",
       "    <tr>\n",
       "      <th>2</th>\n",
       "      <td>1</td>\n",
       "      <td>1091</td>\n",
       "      <td>1.5</td>\n",
       "      <td>1256677471</td>\n",
       "    </tr>\n",
       "    <tr>\n",
       "      <th>3</th>\n",
       "      <td>1</td>\n",
       "      <td>1257</td>\n",
       "      <td>4.5</td>\n",
       "      <td>1256677460</td>\n",
       "    </tr>\n",
       "    <tr>\n",
       "      <th>4</th>\n",
       "      <td>1</td>\n",
       "      <td>1449</td>\n",
       "      <td>4.5</td>\n",
       "      <td>1256677264</td>\n",
       "    </tr>\n",
       "  </tbody>\n",
       "</table>\n",
       "</div>"
      ],
      "text/plain": [
       "   userId  movieId  rating   timestamp\n",
       "0       1      307     3.5  1256677221\n",
       "1       1      481     3.5  1256677456\n",
       "2       1     1091     1.5  1256677471\n",
       "3       1     1257     4.5  1256677460\n",
       "4       1     1449     4.5  1256677264"
      ]
     },
     "execution_count": 4,
     "metadata": {},
     "output_type": "execute_result"
    }
   ],
   "source": [
    "rd.head()"
   ]
  },
  {
   "cell_type": "code",
   "execution_count": 5,
   "metadata": {},
   "outputs": [
    {
     "data": {
      "text/html": [
       "<div>\n",
       "<style scoped>\n",
       "    .dataframe tbody tr th:only-of-type {\n",
       "        vertical-align: middle;\n",
       "    }\n",
       "\n",
       "    .dataframe tbody tr th {\n",
       "        vertical-align: top;\n",
       "    }\n",
       "\n",
       "    .dataframe thead th {\n",
       "        text-align: right;\n",
       "    }\n",
       "</style>\n",
       "<table border=\"1\" class=\"dataframe\">\n",
       "  <thead>\n",
       "    <tr style=\"text-align: right;\">\n",
       "      <th></th>\n",
       "      <th>Hour_6</th>\n",
       "      <th>userId</th>\n",
       "    </tr>\n",
       "  </thead>\n",
       "  <tbody>\n",
       "    <tr>\n",
       "      <th>7482744</th>\n",
       "      <td>00</td>\n",
       "      <td>77060</td>\n",
       "    </tr>\n",
       "    <tr>\n",
       "      <th>10513910</th>\n",
       "      <td>00</td>\n",
       "      <td>108069</td>\n",
       "    </tr>\n",
       "    <tr>\n",
       "      <th>14601490</th>\n",
       "      <td>00</td>\n",
       "      <td>149421</td>\n",
       "    </tr>\n",
       "    <tr>\n",
       "      <th>10513913</th>\n",
       "      <td>00</td>\n",
       "      <td>108069</td>\n",
       "    </tr>\n",
       "    <tr>\n",
       "      <th>10513915</th>\n",
       "      <td>00</td>\n",
       "      <td>108069</td>\n",
       "    </tr>\n",
       "  </tbody>\n",
       "</table>\n",
       "</div>"
      ],
      "text/plain": [
       "         Hour_6  userId\n",
       "7482744      00   77060\n",
       "10513910     00  108069\n",
       "14601490     00  149421\n",
       "10513913     00  108069\n",
       "10513915     00  108069"
      ]
     },
     "execution_count": 5,
     "metadata": {},
     "output_type": "execute_result"
    }
   ],
   "source": [
    "from datetime import datetime\n",
    "\n",
    "rd.drop('movieId', axis = 1, inplace = True)\n",
    "rd.drop('rating', axis = 1, inplace = True)\n",
    "rd['Hour_6']=[datetime.fromtimestamp(x).strftime('%H') for x in rd['timestamp']]\n",
    "rd.drop('timestamp', axis = 1, inplace = True)\n",
    "rd = rd.reindex(columns=['Hour_6','userId'])\n",
    "rd = rd.sort_values(by='Hour_6')\n",
    "rd.head()"
   ]
  },
  {
   "cell_type": "code",
   "execution_count": 6,
   "metadata": {},
   "outputs": [],
   "source": [
    "rd.loc[(rd['Hour_6']==\"00\") | (rd[\"Hour_6\"]==\"01\") | \n",
    "       (rd[\"Hour_6\"]==\"02\") | (rd[\"Hour_6\"]==\"03\"),\"Hour_6\"] = \"h1\"\n",
    "rd.loc[(rd['Hour_6']==\"04\") | (rd[\"Hour_6\"]==\"05\") | \n",
    "       (rd[\"Hour_6\"]==\"06\") | (rd[\"Hour_6\"]==\"07\"),\"Hour_6\"] = \"h2\"\n",
    "rd.loc[(rd['Hour_6']==\"08\") | (rd[\"Hour_6\"]==\"09\") | \n",
    "       (rd[\"Hour_6\"]==\"10\") | (rd[\"Hour_6\"]==\"11\"),\"Hour_6\"] = \"h3\"\n",
    "rd.loc[(rd['Hour_6']==\"12\") | (rd[\"Hour_6\"]==\"13\") | \n",
    "       (rd[\"Hour_6\"]==\"14\") | (rd[\"Hour_6\"]==\"15\"),\"Hour_6\"] = \"h4\"\n",
    "rd.loc[(rd['Hour_6']==\"16\") | (rd[\"Hour_6\"]==\"17\") | \n",
    "       (rd[\"Hour_6\"]==\"18\") | (rd[\"Hour_6\"]==\"19\"),\"Hour_6\"] = \"h5\"\n",
    "rd.loc[(rd['Hour_6']==\"20\") | (rd[\"Hour_6\"]==\"21\") | \n",
    "       (rd[\"Hour_6\"]==\"22\") | (rd[\"Hour_6\"]==\"23\"),\"Hour_6\"] = \"h6\""
   ]
  },
  {
   "cell_type": "code",
   "execution_count": 7,
   "metadata": {},
   "outputs": [
    {
     "data": {
      "text/html": [
       "<div>\n",
       "<style scoped>\n",
       "    .dataframe tbody tr th:only-of-type {\n",
       "        vertical-align: middle;\n",
       "    }\n",
       "\n",
       "    .dataframe tbody tr th {\n",
       "        vertical-align: top;\n",
       "    }\n",
       "\n",
       "    .dataframe thead th {\n",
       "        text-align: right;\n",
       "    }\n",
       "</style>\n",
       "<table border=\"1\" class=\"dataframe\">\n",
       "  <thead>\n",
       "    <tr style=\"text-align: right;\">\n",
       "      <th></th>\n",
       "      <th>Hour_6</th>\n",
       "      <th>userId</th>\n",
       "    </tr>\n",
       "  </thead>\n",
       "  <tbody>\n",
       "    <tr>\n",
       "      <th>7482744</th>\n",
       "      <td>h1</td>\n",
       "      <td>77060</td>\n",
       "    </tr>\n",
       "    <tr>\n",
       "      <th>10513910</th>\n",
       "      <td>h1</td>\n",
       "      <td>108069</td>\n",
       "    </tr>\n",
       "    <tr>\n",
       "      <th>14601490</th>\n",
       "      <td>h1</td>\n",
       "      <td>149421</td>\n",
       "    </tr>\n",
       "    <tr>\n",
       "      <th>10513913</th>\n",
       "      <td>h1</td>\n",
       "      <td>108069</td>\n",
       "    </tr>\n",
       "    <tr>\n",
       "      <th>10513915</th>\n",
       "      <td>h1</td>\n",
       "      <td>108069</td>\n",
       "    </tr>\n",
       "    <tr>\n",
       "      <th>...</th>\n",
       "      <td>...</td>\n",
       "      <td>...</td>\n",
       "    </tr>\n",
       "    <tr>\n",
       "      <th>12105436</th>\n",
       "      <td>h6</td>\n",
       "      <td>123981</td>\n",
       "    </tr>\n",
       "    <tr>\n",
       "      <th>12105435</th>\n",
       "      <td>h6</td>\n",
       "      <td>123981</td>\n",
       "    </tr>\n",
       "    <tr>\n",
       "      <th>22895631</th>\n",
       "      <td>h6</td>\n",
       "      <td>234071</td>\n",
       "    </tr>\n",
       "    <tr>\n",
       "      <th>22895584</th>\n",
       "      <td>h6</td>\n",
       "      <td>234071</td>\n",
       "    </tr>\n",
       "    <tr>\n",
       "      <th>2476726</th>\n",
       "      <td>h6</td>\n",
       "      <td>25521</td>\n",
       "    </tr>\n",
       "  </tbody>\n",
       "</table>\n",
       "<p>27753444 rows × 2 columns</p>\n",
       "</div>"
      ],
      "text/plain": [
       "         Hour_6  userId\n",
       "7482744      h1   77060\n",
       "10513910     h1  108069\n",
       "14601490     h1  149421\n",
       "10513913     h1  108069\n",
       "10513915     h1  108069\n",
       "...         ...     ...\n",
       "12105436     h6  123981\n",
       "12105435     h6  123981\n",
       "22895631     h6  234071\n",
       "22895584     h6  234071\n",
       "2476726      h6   25521\n",
       "\n",
       "[27753444 rows x 2 columns]"
      ]
     },
     "execution_count": 7,
     "metadata": {},
     "output_type": "execute_result"
    }
   ],
   "source": [
    "#잘 보면 h1에 유저 아이디 같은 중복 있어!!\n",
    "rd"
   ]
  },
  {
   "cell_type": "markdown",
   "metadata": {},
   "source": [
    "여기까지 영서꺼랑 같음!"
   ]
  },
  {
   "cell_type": "code",
   "execution_count": 8,
   "metadata": {},
   "outputs": [
    {
     "data": {
      "text/html": [
       "<div>\n",
       "<style scoped>\n",
       "    .dataframe tbody tr th:only-of-type {\n",
       "        vertical-align: middle;\n",
       "    }\n",
       "\n",
       "    .dataframe tbody tr th {\n",
       "        vertical-align: top;\n",
       "    }\n",
       "\n",
       "    .dataframe thead th {\n",
       "        text-align: right;\n",
       "    }\n",
       "</style>\n",
       "<table border=\"1\" class=\"dataframe\">\n",
       "  <thead>\n",
       "    <tr style=\"text-align: right;\">\n",
       "      <th></th>\n",
       "      <th>Hour_6</th>\n",
       "      <th>userId</th>\n",
       "    </tr>\n",
       "  </thead>\n",
       "  <tbody>\n",
       "    <tr>\n",
       "      <th>7482744</th>\n",
       "      <td>h1</td>\n",
       "      <td>77060</td>\n",
       "    </tr>\n",
       "    <tr>\n",
       "      <th>10513910</th>\n",
       "      <td>h1</td>\n",
       "      <td>108069</td>\n",
       "    </tr>\n",
       "    <tr>\n",
       "      <th>14601490</th>\n",
       "      <td>h1</td>\n",
       "      <td>149421</td>\n",
       "    </tr>\n",
       "    <tr>\n",
       "      <th>2324147</th>\n",
       "      <td>h1</td>\n",
       "      <td>23894</td>\n",
       "    </tr>\n",
       "    <tr>\n",
       "      <th>21383315</th>\n",
       "      <td>h1</td>\n",
       "      <td>218398</td>\n",
       "    </tr>\n",
       "    <tr>\n",
       "      <th>...</th>\n",
       "      <td>...</td>\n",
       "      <td>...</td>\n",
       "    </tr>\n",
       "    <tr>\n",
       "      <th>12103780</th>\n",
       "      <td>h6</td>\n",
       "      <td>123962</td>\n",
       "    </tr>\n",
       "    <tr>\n",
       "      <th>6902495</th>\n",
       "      <td>h6</td>\n",
       "      <td>70803</td>\n",
       "    </tr>\n",
       "    <tr>\n",
       "      <th>12105540</th>\n",
       "      <td>h6</td>\n",
       "      <td>123982</td>\n",
       "    </tr>\n",
       "    <tr>\n",
       "      <th>12105287</th>\n",
       "      <td>h6</td>\n",
       "      <td>123977</td>\n",
       "    </tr>\n",
       "    <tr>\n",
       "      <th>26478704</th>\n",
       "      <td>h6</td>\n",
       "      <td>270418</td>\n",
       "    </tr>\n",
       "  </tbody>\n",
       "</table>\n",
       "<p>467659 rows × 2 columns</p>\n",
       "</div>"
      ],
      "text/plain": [
       "         Hour_6  userId\n",
       "7482744      h1   77060\n",
       "10513910     h1  108069\n",
       "14601490     h1  149421\n",
       "2324147      h1   23894\n",
       "21383315     h1  218398\n",
       "...         ...     ...\n",
       "12103780     h6  123962\n",
       "6902495      h6   70803\n",
       "12105540     h6  123982\n",
       "12105287     h6  123977\n",
       "26478704     h6  270418\n",
       "\n",
       "[467659 rows x 2 columns]"
      ]
     },
     "execution_count": 8,
     "metadata": {},
     "output_type": "execute_result"
    }
   ],
   "source": [
    "rd.drop_duplicates(['Hour_6','userId'])"
   ]
  },
  {
   "cell_type": "code",
   "execution_count": 10,
   "metadata": {},
   "outputs": [],
   "source": [
    "#원래 이거 쓰면 unstack에서 그 stack 결과 토대로 다시 dataframe만든다는데 ㅠㅠ unstack이 안되는 상태 (이 코드도 안됩니다)\n",
    "#rd.set_index([\"Hour_6\"]).stack().unstack()"
   ]
  },
  {
   "cell_type": "code",
   "execution_count": 11,
   "metadata": {},
   "outputs": [],
   "source": [
    "new_rd=rd.set_index([\"Hour_6\"]).stack()"
   ]
  },
  {
   "cell_type": "code",
   "execution_count": 13,
   "metadata": {},
   "outputs": [
    {
     "data": {
      "text/plain": [
       "Hour_6        \n",
       "h1      userId     77060\n",
       "        userId    108069\n",
       "        userId    149421\n",
       "        userId    108069\n",
       "        userId    108069\n",
       "                   ...  \n",
       "h6      userId    123981\n",
       "        userId    123981\n",
       "        userId    234071\n",
       "        userId    234071\n",
       "        userId     25521\n",
       "Length: 27753444, dtype: int64"
      ]
     },
     "execution_count": 13,
     "metadata": {},
     "output_type": "execute_result"
    }
   ],
   "source": [
    "new_rd"
   ]
  },
  {
   "cell_type": "code",
   "execution_count": 12,
   "metadata": {
    "scrolled": true
   },
   "outputs": [
    {
     "ename": "ValueError",
     "evalue": "Index contains duplicate entries, cannot reshape",
     "output_type": "error",
     "traceback": [
      "\u001b[1;31m---------------------------------------------------------------------------\u001b[0m",
      "\u001b[1;31mValueError\u001b[0m                                Traceback (most recent call last)",
      "\u001b[1;32m<ipython-input-12-1fee43ced001>\u001b[0m in \u001b[0;36m<module>\u001b[1;34m\u001b[0m\n\u001b[1;32m----> 1\u001b[1;33m \u001b[0mnew_rd\u001b[0m\u001b[1;33m.\u001b[0m\u001b[0munstack\u001b[0m\u001b[1;33m(\u001b[0m\u001b[1;33m)\u001b[0m\u001b[1;33m\u001b[0m\u001b[1;33m\u001b[0m\u001b[0m\n\u001b[0m",
      "\u001b[1;32m~\\anaconda3\\lib\\site-packages\\pandas\\core\\series.py\u001b[0m in \u001b[0;36munstack\u001b[1;34m(self, level, fill_value)\u001b[0m\n\u001b[0;32m   3888\u001b[0m         \u001b[1;32mfrom\u001b[0m \u001b[0mpandas\u001b[0m\u001b[1;33m.\u001b[0m\u001b[0mcore\u001b[0m\u001b[1;33m.\u001b[0m\u001b[0mreshape\u001b[0m\u001b[1;33m.\u001b[0m\u001b[0mreshape\u001b[0m \u001b[1;32mimport\u001b[0m \u001b[0munstack\u001b[0m\u001b[1;33m\u001b[0m\u001b[1;33m\u001b[0m\u001b[0m\n\u001b[0;32m   3889\u001b[0m \u001b[1;33m\u001b[0m\u001b[0m\n\u001b[1;32m-> 3890\u001b[1;33m         \u001b[1;32mreturn\u001b[0m \u001b[0munstack\u001b[0m\u001b[1;33m(\u001b[0m\u001b[0mself\u001b[0m\u001b[1;33m,\u001b[0m \u001b[0mlevel\u001b[0m\u001b[1;33m,\u001b[0m \u001b[0mfill_value\u001b[0m\u001b[1;33m)\u001b[0m\u001b[1;33m\u001b[0m\u001b[1;33m\u001b[0m\u001b[0m\n\u001b[0m\u001b[0;32m   3891\u001b[0m \u001b[1;33m\u001b[0m\u001b[0m\n\u001b[0;32m   3892\u001b[0m     \u001b[1;31m# ----------------------------------------------------------------------\u001b[0m\u001b[1;33m\u001b[0m\u001b[1;33m\u001b[0m\u001b[1;33m\u001b[0m\u001b[0m\n",
      "\u001b[1;32m~\\anaconda3\\lib\\site-packages\\pandas\\core\\reshape\\reshape.py\u001b[0m in \u001b[0;36munstack\u001b[1;34m(obj, level, fill_value)\u001b[0m\n\u001b[0;32m    422\u001b[0m         \u001b[1;32mif\u001b[0m \u001b[0mis_extension_array_dtype\u001b[0m\u001b[1;33m(\u001b[0m\u001b[0mobj\u001b[0m\u001b[1;33m.\u001b[0m\u001b[0mdtype\u001b[0m\u001b[1;33m)\u001b[0m\u001b[1;33m:\u001b[0m\u001b[1;33m\u001b[0m\u001b[1;33m\u001b[0m\u001b[0m\n\u001b[0;32m    423\u001b[0m             \u001b[1;32mreturn\u001b[0m \u001b[0m_unstack_extension_series\u001b[0m\u001b[1;33m(\u001b[0m\u001b[0mobj\u001b[0m\u001b[1;33m,\u001b[0m \u001b[0mlevel\u001b[0m\u001b[1;33m,\u001b[0m \u001b[0mfill_value\u001b[0m\u001b[1;33m)\u001b[0m\u001b[1;33m\u001b[0m\u001b[1;33m\u001b[0m\u001b[0m\n\u001b[1;32m--> 424\u001b[1;33m         unstacker = _Unstacker(\n\u001b[0m\u001b[0;32m    425\u001b[0m             \u001b[0mobj\u001b[0m\u001b[1;33m.\u001b[0m\u001b[0mindex\u001b[0m\u001b[1;33m,\u001b[0m \u001b[0mlevel\u001b[0m\u001b[1;33m=\u001b[0m\u001b[0mlevel\u001b[0m\u001b[1;33m,\u001b[0m \u001b[0mconstructor\u001b[0m\u001b[1;33m=\u001b[0m\u001b[0mobj\u001b[0m\u001b[1;33m.\u001b[0m\u001b[0m_constructor_expanddim\u001b[0m\u001b[1;33m,\u001b[0m\u001b[1;33m\u001b[0m\u001b[1;33m\u001b[0m\u001b[0m\n\u001b[0;32m    426\u001b[0m         )\n",
      "\u001b[1;32m~\\anaconda3\\lib\\site-packages\\pandas\\core\\reshape\\reshape.py\u001b[0m in \u001b[0;36m__init__\u001b[1;34m(self, index, level, constructor)\u001b[0m\n\u001b[0;32m    118\u001b[0m             \u001b[1;32mraise\u001b[0m \u001b[0mValueError\u001b[0m\u001b[1;33m(\u001b[0m\u001b[1;34m\"Unstacked DataFrame is too big, causing int32 overflow\"\u001b[0m\u001b[1;33m)\u001b[0m\u001b[1;33m\u001b[0m\u001b[1;33m\u001b[0m\u001b[0m\n\u001b[0;32m    119\u001b[0m \u001b[1;33m\u001b[0m\u001b[0m\n\u001b[1;32m--> 120\u001b[1;33m         \u001b[0mself\u001b[0m\u001b[1;33m.\u001b[0m\u001b[0m_make_selectors\u001b[0m\u001b[1;33m(\u001b[0m\u001b[1;33m)\u001b[0m\u001b[1;33m\u001b[0m\u001b[1;33m\u001b[0m\u001b[0m\n\u001b[0m\u001b[0;32m    121\u001b[0m \u001b[1;33m\u001b[0m\u001b[0m\n\u001b[0;32m    122\u001b[0m     \u001b[1;33m@\u001b[0m\u001b[0mcache_readonly\u001b[0m\u001b[1;33m\u001b[0m\u001b[1;33m\u001b[0m\u001b[0m\n",
      "\u001b[1;32m~\\anaconda3\\lib\\site-packages\\pandas\\core\\reshape\\reshape.py\u001b[0m in \u001b[0;36m_make_selectors\u001b[1;34m(self)\u001b[0m\n\u001b[0;32m    167\u001b[0m \u001b[1;33m\u001b[0m\u001b[0m\n\u001b[0;32m    168\u001b[0m         \u001b[1;32mif\u001b[0m \u001b[0mmask\u001b[0m\u001b[1;33m.\u001b[0m\u001b[0msum\u001b[0m\u001b[1;33m(\u001b[0m\u001b[1;33m)\u001b[0m \u001b[1;33m<\u001b[0m \u001b[0mlen\u001b[0m\u001b[1;33m(\u001b[0m\u001b[0mself\u001b[0m\u001b[1;33m.\u001b[0m\u001b[0mindex\u001b[0m\u001b[1;33m)\u001b[0m\u001b[1;33m:\u001b[0m\u001b[1;33m\u001b[0m\u001b[1;33m\u001b[0m\u001b[0m\n\u001b[1;32m--> 169\u001b[1;33m             \u001b[1;32mraise\u001b[0m \u001b[0mValueError\u001b[0m\u001b[1;33m(\u001b[0m\u001b[1;34m\"Index contains duplicate entries, cannot reshape\"\u001b[0m\u001b[1;33m)\u001b[0m\u001b[1;33m\u001b[0m\u001b[1;33m\u001b[0m\u001b[0m\n\u001b[0m\u001b[0;32m    170\u001b[0m \u001b[1;33m\u001b[0m\u001b[0m\n\u001b[0;32m    171\u001b[0m         \u001b[0mself\u001b[0m\u001b[1;33m.\u001b[0m\u001b[0mgroup_index\u001b[0m \u001b[1;33m=\u001b[0m \u001b[0mcomp_index\u001b[0m\u001b[1;33m\u001b[0m\u001b[1;33m\u001b[0m\u001b[0m\n",
      "\u001b[1;31mValueError\u001b[0m: Index contains duplicate entries, cannot reshape"
     ]
    }
   ],
   "source": [
    "#여기서 에러 나는데 지금 안되고 있습니다,,\n",
    "new_rd.unstack()"
   ]
  }
 ],
 "metadata": {
  "kernelspec": {
   "display_name": "Python 3",
   "language": "python",
   "name": "python3"
  },
  "language_info": {
   "codemirror_mode": {
    "name": "ipython",
    "version": 3
   },
   "file_extension": ".py",
   "mimetype": "text/x-python",
   "name": "python",
   "nbconvert_exporter": "python",
   "pygments_lexer": "ipython3",
   "version": "3.8.5"
  }
 },
 "nbformat": 4,
 "nbformat_minor": 4
}
