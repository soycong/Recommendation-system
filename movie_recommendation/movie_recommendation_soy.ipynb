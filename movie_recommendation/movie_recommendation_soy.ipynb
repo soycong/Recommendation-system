{
 "cells": [
  {
   "cell_type": "code",
   "execution_count": 1,
   "metadata": {},
   "outputs": [],
   "source": [
    "from sklearn.decomposition import TruncatedSVD\n",
    "from scipy.sparse.linalg import svds\n",
    "from datetime import datetime\n",
    "\n",
    "import matplotlib.pyplot as plt \n",
    "import seaborn as sns\n",
    "import pandas as pd\n",
    "import numpy as np\n",
    "import warnings\n",
    "warnings.filterwarnings(\"ignore\")"
   ]
  },
  {
   "cell_type": "code",
   "execution_count": 2,
   "metadata": {},
   "outputs": [],
   "source": [
    "df_ratings = pd.read_csv('./data/ml-latest-small/ratings.csv')\n",
    "df_movies = pd.read_csv('./data/ml-latest-small/movies.csv')"
   ]
  },
  {
   "cell_type": "code",
   "execution_count": 3,
   "metadata": {},
   "outputs": [
    {
     "data": {
      "text/html": [
       "<div>\n",
       "<style scoped>\n",
       "    .dataframe tbody tr th:only-of-type {\n",
       "        vertical-align: middle;\n",
       "    }\n",
       "\n",
       "    .dataframe tbody tr th {\n",
       "        vertical-align: top;\n",
       "    }\n",
       "\n",
       "    .dataframe thead th {\n",
       "        text-align: right;\n",
       "    }\n",
       "</style>\n",
       "<table border=\"1\" class=\"dataframe\">\n",
       "  <thead>\n",
       "    <tr style=\"text-align: right;\">\n",
       "      <th></th>\n",
       "      <th>userId</th>\n",
       "      <th>movieId</th>\n",
       "      <th>rating</th>\n",
       "      <th>timestamp</th>\n",
       "    </tr>\n",
       "  </thead>\n",
       "  <tbody>\n",
       "    <tr>\n",
       "      <th>0</th>\n",
       "      <td>1</td>\n",
       "      <td>31</td>\n",
       "      <td>2.5</td>\n",
       "      <td>1260759144</td>\n",
       "    </tr>\n",
       "    <tr>\n",
       "      <th>1</th>\n",
       "      <td>1</td>\n",
       "      <td>1029</td>\n",
       "      <td>3.0</td>\n",
       "      <td>1260759179</td>\n",
       "    </tr>\n",
       "    <tr>\n",
       "      <th>2</th>\n",
       "      <td>1</td>\n",
       "      <td>1061</td>\n",
       "      <td>3.0</td>\n",
       "      <td>1260759182</td>\n",
       "    </tr>\n",
       "    <tr>\n",
       "      <th>3</th>\n",
       "      <td>1</td>\n",
       "      <td>1129</td>\n",
       "      <td>2.0</td>\n",
       "      <td>1260759185</td>\n",
       "    </tr>\n",
       "    <tr>\n",
       "      <th>4</th>\n",
       "      <td>1</td>\n",
       "      <td>1172</td>\n",
       "      <td>4.0</td>\n",
       "      <td>1260759205</td>\n",
       "    </tr>\n",
       "  </tbody>\n",
       "</table>\n",
       "</div>"
      ],
      "text/plain": [
       "   userId  movieId  rating   timestamp\n",
       "0       1       31     2.5  1260759144\n",
       "1       1     1029     3.0  1260759179\n",
       "2       1     1061     3.0  1260759182\n",
       "3       1     1129     2.0  1260759185\n",
       "4       1     1172     4.0  1260759205"
      ]
     },
     "execution_count": 3,
     "metadata": {},
     "output_type": "execute_result"
    }
   ],
   "source": [
    "df_ratings.head()"
   ]
  },
  {
   "cell_type": "code",
   "execution_count": 4,
   "metadata": {},
   "outputs": [
    {
     "data": {
      "text/plain": [
       "(100004, 4)"
      ]
     },
     "execution_count": 4,
     "metadata": {},
     "output_type": "execute_result"
    }
   ],
   "source": [
    "df_ratings.shape"
   ]
  },
  {
   "cell_type": "code",
   "execution_count": 5,
   "metadata": {},
   "outputs": [
    {
     "data": {
      "text/html": [
       "<div>\n",
       "<style scoped>\n",
       "    .dataframe tbody tr th:only-of-type {\n",
       "        vertical-align: middle;\n",
       "    }\n",
       "\n",
       "    .dataframe tbody tr th {\n",
       "        vertical-align: top;\n",
       "    }\n",
       "\n",
       "    .dataframe thead th {\n",
       "        text-align: right;\n",
       "    }\n",
       "</style>\n",
       "<table border=\"1\" class=\"dataframe\">\n",
       "  <thead>\n",
       "    <tr style=\"text-align: right;\">\n",
       "      <th></th>\n",
       "      <th>movieId</th>\n",
       "      <th>title</th>\n",
       "      <th>genres</th>\n",
       "    </tr>\n",
       "  </thead>\n",
       "  <tbody>\n",
       "    <tr>\n",
       "      <th>0</th>\n",
       "      <td>1</td>\n",
       "      <td>Toy Story (1995)</td>\n",
       "      <td>Adventure|Animation|Children|Comedy|Fantasy</td>\n",
       "    </tr>\n",
       "    <tr>\n",
       "      <th>1</th>\n",
       "      <td>2</td>\n",
       "      <td>Jumanji (1995)</td>\n",
       "      <td>Adventure|Children|Fantasy</td>\n",
       "    </tr>\n",
       "    <tr>\n",
       "      <th>2</th>\n",
       "      <td>3</td>\n",
       "      <td>Grumpier Old Men (1995)</td>\n",
       "      <td>Comedy|Romance</td>\n",
       "    </tr>\n",
       "    <tr>\n",
       "      <th>3</th>\n",
       "      <td>4</td>\n",
       "      <td>Waiting to Exhale (1995)</td>\n",
       "      <td>Comedy|Drama|Romance</td>\n",
       "    </tr>\n",
       "    <tr>\n",
       "      <th>4</th>\n",
       "      <td>5</td>\n",
       "      <td>Father of the Bride Part II (1995)</td>\n",
       "      <td>Comedy</td>\n",
       "    </tr>\n",
       "  </tbody>\n",
       "</table>\n",
       "</div>"
      ],
      "text/plain": [
       "   movieId                               title  \\\n",
       "0        1                    Toy Story (1995)   \n",
       "1        2                      Jumanji (1995)   \n",
       "2        3             Grumpier Old Men (1995)   \n",
       "3        4            Waiting to Exhale (1995)   \n",
       "4        5  Father of the Bride Part II (1995)   \n",
       "\n",
       "                                        genres  \n",
       "0  Adventure|Animation|Children|Comedy|Fantasy  \n",
       "1                   Adventure|Children|Fantasy  \n",
       "2                               Comedy|Romance  \n",
       "3                         Comedy|Drama|Romance  \n",
       "4                                       Comedy  "
      ]
     },
     "execution_count": 5,
     "metadata": {},
     "output_type": "execute_result"
    }
   ],
   "source": [
    "df_movies.head()"
   ]
  },
  {
   "cell_type": "code",
   "execution_count": 6,
   "metadata": {},
   "outputs": [
    {
     "data": {
      "text/plain": [
       "(9125, 3)"
      ]
     },
     "execution_count": 6,
     "metadata": {},
     "output_type": "execute_result"
    }
   ],
   "source": [
    "df_movies.shape"
   ]
  },
  {
   "cell_type": "markdown",
   "metadata": {},
   "source": [
    "# 데이터 시각화"
   ]
  },
  {
   "cell_type": "code",
   "execution_count": 7,
   "metadata": {},
   "outputs": [
    {
     "name": "stdout",
     "output_type": "stream",
     "text": [
      "<class 'pandas.core.frame.DataFrame'>\n",
      "RangeIndex: 100004 entries, 0 to 100003\n",
      "Data columns (total 4 columns):\n",
      " #   Column     Non-Null Count   Dtype  \n",
      "---  ------     --------------   -----  \n",
      " 0   userId     100004 non-null  int64  \n",
      " 1   movieId    100004 non-null  int64  \n",
      " 2   rating     100004 non-null  float64\n",
      " 3   timestamp  100004 non-null  int64  \n",
      "dtypes: float64(1), int64(3)\n",
      "memory usage: 3.1 MB\n"
     ]
    }
   ],
   "source": [
    "df_ratings.info()"
   ]
  },
  {
   "cell_type": "code",
   "execution_count": 8,
   "metadata": {},
   "outputs": [
    {
     "name": "stdout",
     "output_type": "stream",
     "text": [
      "<class 'pandas.core.frame.DataFrame'>\n",
      "RangeIndex: 9125 entries, 0 to 9124\n",
      "Data columns (total 3 columns):\n",
      " #   Column   Non-Null Count  Dtype \n",
      "---  ------   --------------  ----- \n",
      " 0   movieId  9125 non-null   int64 \n",
      " 1   title    9125 non-null   object\n",
      " 2   genres   9125 non-null   object\n",
      "dtypes: int64(1), object(2)\n",
      "memory usage: 214.0+ KB\n"
     ]
    }
   ],
   "source": [
    "df_movies.info()"
   ]
  },
  {
   "cell_type": "code",
   "execution_count": 9,
   "metadata": {},
   "outputs": [
    {
     "name": "stdout",
     "output_type": "stream",
     "text": [
      "# of Unique Users: 671\n",
      "# of movieId: 9066\n"
     ]
    }
   ],
   "source": [
    "# checking unique users\n",
    "print(f\"# of Unique Users: {df_ratings['userId'].nunique()}\")\n",
    "\n",
    "# checking number of items\n",
    "print(f\"# of movieId: {df_ratings['movieId'].nunique()}\")"
   ]
  },
  {
   "cell_type": "code",
   "execution_count": 10,
   "metadata": {},
   "outputs": [
    {
     "data": {
      "image/png": "[encoded data removed]",
      "text/plain": [
       "<Figure size 1440x1152 with 1 Axes>"
      ]
     },
     "metadata": {
      "needs_background": "light"
     },
     "output_type": "display_data"
    }
   ],
   "source": [
    "unique_genre_dict = {}\n",
    "for index, row in df_movies.iterrows():\n",
    "     \n",
    "    #여러 장르가 함께 있는 것을 분리하기 위해 '|' 구분자 분리하여 count\n",
    "    genre_combination = row['genres']\n",
    "    parsed_genre = genre_combination.split('|')\n",
    "    \n",
    "    for genre in parsed_genre:\n",
    "        if genre in unique_genre_dict:\n",
    "            unique_genre_dict[genre] += 1\n",
    "        else:\n",
    "            unique_genre_dict[genre] = 1\n",
    "\n",
    "plt.rcParams['figure.figsize'] = [20,16]\n",
    "sns.barplot(list(unique_genre_dict.keys()), list(unique_genre_dict.values()),\n",
    "           alpha=0.8)\n",
    "plt.title('Popular genre in movies')\n",
    "plt.ylabel('Count of genre', fontsize=12)\n",
    "plt.xlabel('Genre', fontsize=12)\n",
    "plt.show()"
   ]
  },
  {
   "cell_type": "markdown",
   "metadata": {},
   "source": [
    "# Matrix Factorization using SVD\n",
    "## with Feature scaling using Standardization"
   ]
  },
  {
   "cell_type": "markdown",
   "metadata": {},
   "source": [
    "- 원본 user-movie 평점 행렬이 있었음\n",
    "- 이를 user의 평균 점수를 빼서 R_demeaned 이라는 행렬로 만듬\n",
    "- 2번의 값을 SVD를 적용해 U, Sigma, Vt 행렬을 구했음\n",
    "- Sigma 행렬은 현재 0이 포함이 되지 않은 값으로만 구성되어 있음. 이를 대칭행렬로 변환\n",
    "- 이 과정을 마치고 원본 행렬로 다시 되돌려 놓음"
   ]
  },
  {
   "cell_type": "code",
   "execution_count": 11,
   "metadata": {},
   "outputs": [],
   "source": [
    "def MatrixFactorizaion(df_ratings, df_movies):\n",
    "    #사용자-영화 평점 데이터 -> 사용자 별 각 영화 평점 방식\n",
    "    #사용자-N명, 영화-M개 -> N*M크기의 행렬\n",
    "    df_movie_features = df_ratings.pivot(\n",
    "        index='userId',\n",
    "        columns='movieId',\n",
    "        values='rating'\n",
    "    ).fillna(0)\n",
    "    \n",
    "    ## Data normalizaiion ##\n",
    "    #pivot_table 값을 numpy matrix로 만든 것\n",
    "    R = df_movie_features.to_numpy()\n",
    "    \n",
    "    # 각 user들의 rating 평균을 구함\n",
    "    user_ratings_mean = np.mean(R, axis = 1)\n",
    "    \n",
    "    # R_demeaned : 사용자-영화에 대해 사용자 평균 평점을 뺀 것.\n",
    "    R_demeaned = R - user_ratings_mean.reshape(-1, 1)\n",
    "    \n",
    "    M_demeaned = pd.DataFrame(R_demeaned, columns = df_movie_features.columns)\n",
    "    \n",
    "    # U 행렬, sigma 행렬, V 전치 행렬을 반환.\n",
    "    U, sigma, Vt = svds(M_demeaned, k = 50)\n",
    "    \n",
    "    # 0이 포함된 대칭행렬로 변환\n",
    "    sigma = np.diag(sigma)\n",
    "    \n",
    "    # U, Sigma, Vt의 내적을 수행하면, 다시 원본 행렬로 복원 + 사용자 평균 rating을 적용 \n",
    "    all_user_predicted_ratings = np.dot(np.dot(U, sigma), Vt) + user_ratings_mean.reshape(-1, 1)\n",
    "    \n",
    "    #SVD 특이값 분해를 사용해 matrix factorization 기반으로 데이터 변경\n",
    "    preds_df = pd.DataFrame(all_user_predicted_ratings, columns = df_movie_features.columns)\n",
    "    \n",
    "    return preds_df"
   ]
  },
  {
   "cell_type": "code",
   "execution_count": 12,
   "metadata": {},
   "outputs": [
    {
     "data": {
      "text/html": [
       "<div>\n",
       "<style scoped>\n",
       "    .dataframe tbody tr th:only-of-type {\n",
       "        vertical-align: middle;\n",
       "    }\n",
       "\n",
       "    .dataframe tbody tr th {\n",
       "        vertical-align: top;\n",
       "    }\n",
       "\n",
       "    .dataframe thead th {\n",
       "        text-align: right;\n",
       "    }\n",
       "</style>\n",
       "<table border=\"1\" class=\"dataframe\">\n",
       "  <thead>\n",
       "    <tr style=\"text-align: right;\">\n",
       "      <th>movieId</th>\n",
       "      <th>1</th>\n",
       "      <th>2</th>\n",
       "      <th>3</th>\n",
       "      <th>4</th>\n",
       "      <th>5</th>\n",
       "      <th>6</th>\n",
       "      <th>7</th>\n",
       "      <th>8</th>\n",
       "      <th>9</th>\n",
       "      <th>10</th>\n",
       "      <th>...</th>\n",
       "      <th>161084</th>\n",
       "      <th>161155</th>\n",
       "      <th>161594</th>\n",
       "      <th>161830</th>\n",
       "      <th>161918</th>\n",
       "      <th>161944</th>\n",
       "      <th>162376</th>\n",
       "      <th>162542</th>\n",
       "      <th>162672</th>\n",
       "      <th>163949</th>\n",
       "    </tr>\n",
       "  </thead>\n",
       "  <tbody>\n",
       "    <tr>\n",
       "      <th>0</th>\n",
       "      <td>-0.054239</td>\n",
       "      <td>0.045130</td>\n",
       "      <td>-0.004835</td>\n",
       "      <td>-0.019817</td>\n",
       "      <td>-0.011284</td>\n",
       "      <td>0.041373</td>\n",
       "      <td>-0.007822</td>\n",
       "      <td>-0.017188</td>\n",
       "      <td>0.012246</td>\n",
       "      <td>0.037670</td>\n",
       "      <td>...</td>\n",
       "      <td>-0.005258</td>\n",
       "      <td>-0.005453</td>\n",
       "      <td>0.012369</td>\n",
       "      <td>-0.004991</td>\n",
       "      <td>-0.004639</td>\n",
       "      <td>-0.019055</td>\n",
       "      <td>0.021402</td>\n",
       "      <td>-0.006365</td>\n",
       "      <td>-0.006098</td>\n",
       "      <td>-0.004819</td>\n",
       "    </tr>\n",
       "    <tr>\n",
       "      <th>1</th>\n",
       "      <td>0.419835</td>\n",
       "      <td>1.406440</td>\n",
       "      <td>-0.188807</td>\n",
       "      <td>0.156658</td>\n",
       "      <td>0.268032</td>\n",
       "      <td>0.414698</td>\n",
       "      <td>0.052172</td>\n",
       "      <td>0.044728</td>\n",
       "      <td>-0.020198</td>\n",
       "      <td>2.220256</td>\n",
       "      <td>...</td>\n",
       "      <td>-0.005909</td>\n",
       "      <td>-0.003974</td>\n",
       "      <td>-0.012555</td>\n",
       "      <td>-0.003555</td>\n",
       "      <td>-0.002711</td>\n",
       "      <td>-0.071621</td>\n",
       "      <td>-0.016212</td>\n",
       "      <td>0.001047</td>\n",
       "      <td>-0.001468</td>\n",
       "      <td>-0.006577</td>\n",
       "    </tr>\n",
       "    <tr>\n",
       "      <th>2</th>\n",
       "      <td>1.345619</td>\n",
       "      <td>0.266505</td>\n",
       "      <td>-0.011962</td>\n",
       "      <td>0.012278</td>\n",
       "      <td>0.079508</td>\n",
       "      <td>0.090960</td>\n",
       "      <td>-0.122094</td>\n",
       "      <td>0.031327</td>\n",
       "      <td>-0.018023</td>\n",
       "      <td>0.141176</td>\n",
       "      <td>...</td>\n",
       "      <td>-0.002647</td>\n",
       "      <td>-0.002364</td>\n",
       "      <td>-0.010153</td>\n",
       "      <td>0.000277</td>\n",
       "      <td>-0.000116</td>\n",
       "      <td>-0.018063</td>\n",
       "      <td>-0.015761</td>\n",
       "      <td>0.010611</td>\n",
       "      <td>0.006792</td>\n",
       "      <td>-0.006357</td>\n",
       "    </tr>\n",
       "    <tr>\n",
       "      <th>3</th>\n",
       "      <td>1.133455</td>\n",
       "      <td>1.046982</td>\n",
       "      <td>0.141275</td>\n",
       "      <td>0.081841</td>\n",
       "      <td>-0.339675</td>\n",
       "      <td>-1.484659</td>\n",
       "      <td>-0.263096</td>\n",
       "      <td>-0.169750</td>\n",
       "      <td>-0.021862</td>\n",
       "      <td>1.611664</td>\n",
       "      <td>...</td>\n",
       "      <td>0.020805</td>\n",
       "      <td>0.000410</td>\n",
       "      <td>0.056040</td>\n",
       "      <td>-0.002817</td>\n",
       "      <td>-0.000767</td>\n",
       "      <td>0.159159</td>\n",
       "      <td>0.087519</td>\n",
       "      <td>-0.030854</td>\n",
       "      <td>-0.021279</td>\n",
       "      <td>0.048529</td>\n",
       "    </tr>\n",
       "    <tr>\n",
       "      <th>4</th>\n",
       "      <td>1.389578</td>\n",
       "      <td>1.466495</td>\n",
       "      <td>0.605557</td>\n",
       "      <td>-0.029647</td>\n",
       "      <td>0.729380</td>\n",
       "      <td>-0.118539</td>\n",
       "      <td>-0.026017</td>\n",
       "      <td>0.065577</td>\n",
       "      <td>-0.156655</td>\n",
       "      <td>0.307926</td>\n",
       "      <td>...</td>\n",
       "      <td>-0.007422</td>\n",
       "      <td>-0.011810</td>\n",
       "      <td>0.006644</td>\n",
       "      <td>-0.005159</td>\n",
       "      <td>-0.001249</td>\n",
       "      <td>-0.034658</td>\n",
       "      <td>0.016456</td>\n",
       "      <td>0.001710</td>\n",
       "      <td>-0.004166</td>\n",
       "      <td>-0.001864</td>\n",
       "    </tr>\n",
       "  </tbody>\n",
       "</table>\n",
       "<p>5 rows × 9066 columns</p>\n",
       "</div>"
      ],
      "text/plain": [
       "movieId    1         2         3         4         5         6         7       \\\n",
       "0       -0.054239  0.045130 -0.004835 -0.019817 -0.011284  0.041373 -0.007822   \n",
       "1        0.419835  1.406440 -0.188807  0.156658  0.268032  0.414698  0.052172   \n",
       "2        1.345619  0.266505 -0.011962  0.012278  0.079508  0.090960 -0.122094   \n",
       "3        1.133455  1.046982  0.141275  0.081841 -0.339675 -1.484659 -0.263096   \n",
       "4        1.389578  1.466495  0.605557 -0.029647  0.729380 -0.118539 -0.026017   \n",
       "\n",
       "movieId    8         9         10      ...    161084    161155    161594  \\\n",
       "0       -0.017188  0.012246  0.037670  ... -0.005258 -0.005453  0.012369   \n",
       "1        0.044728 -0.020198  2.220256  ... -0.005909 -0.003974 -0.012555   \n",
       "2        0.031327 -0.018023  0.141176  ... -0.002647 -0.002364 -0.010153   \n",
       "3       -0.169750 -0.021862  1.611664  ...  0.020805  0.000410  0.056040   \n",
       "4        0.065577 -0.156655  0.307926  ... -0.007422 -0.011810  0.006644   \n",
       "\n",
       "movieId    161830    161918    161944    162376    162542    162672    163949  \n",
       "0       -0.004991 -0.004639 -0.019055  0.021402 -0.006365 -0.006098 -0.004819  \n",
       "1       -0.003555 -0.002711 -0.071621 -0.016212  0.001047 -0.001468 -0.006577  \n",
       "2        0.000277 -0.000116 -0.018063 -0.015761  0.010611  0.006792 -0.006357  \n",
       "3       -0.002817 -0.000767  0.159159  0.087519 -0.030854 -0.021279  0.048529  \n",
       "4       -0.005159 -0.001249 -0.034658  0.016456  0.001710 -0.004166 -0.001864  \n",
       "\n",
       "[5 rows x 9066 columns]"
      ]
     },
     "execution_count": 12,
     "metadata": {},
     "output_type": "execute_result"
    }
   ],
   "source": [
    "preds_df = MatrixFactorizaion(df_ratings, df_movies)\n",
    "preds_df.head()"
   ]
  },
  {
   "cell_type": "markdown",
   "metadata": {},
   "source": [
    "# All user prediction system"
   ]
  },
  {
   "cell_type": "code",
   "execution_count": 13,
   "metadata": {},
   "outputs": [],
   "source": [
    "def AllUserPrediction(preds_df, userID, df_movies, df_ratings, num_recommendations=5):\n",
    "\n",
    "    user_row_number = userID - 1 # UserID starts at 1, not 0\n",
    "    \n",
    "    # 최종적으로 만든 pred_df에서 사용자 index에 따라 영화 데이터 정렬 -> 영화 평점이 높은 순으로 정렬\n",
    "    sorted_user_predictions = preds_df.iloc[user_row_number].sort_values(ascending=False) # UserID starts at 1\n",
    "    \n",
    "    # 원본 평점 데이터에서 userId에 해당하는 데이터를 뽑아냄\n",
    "    user_data = df_ratings[df_ratings.userId == (userID)]\n",
    "    \n",
    "    # 위에서 뽑은 user_data와 원본 영화 데이터를 합침\n",
    "    user_full = (user_data.merge(df_movies, how = 'left', left_on = 'movieId', right_on = 'movieId').\n",
    "                     sort_values(['rating'], ascending=False))\n",
    "    user_full = user_data.merge(df_movies, on = 'movieId').sort_values(['rating'], ascending=False)\n",
    "    \n",
    "    # 원본 영화 데이터에서 사용자가 본 영화 데이터를 제외한 데이터를 추출\n",
    "    recommendations = df_movies[~df_movies['movieId'].isin(user_full['movieId'])]\n",
    "    # 사용자의 영화 평점이 높은 순으로 정렬된 데이터와 위 recommendations을 합친다. \n",
    "    recommendations = recommendations.merge( pd.DataFrame(sorted_user_predictions).reset_index(), on = 'movieId')\n",
    "    # 컬럼 이름 바꾸고 정렬해서 return\n",
    "    recommendations = recommendations.rename(columns = {user_row_number: 'Predictions'}).sort_values('Predictions', ascending = False).iloc[:num_recommendations, :]\n",
    "\n",
    "    return recommendations"
   ]
  },
  {
   "cell_type": "markdown",
   "metadata": {},
   "source": [
    "# 330번 user에게 추천해줄 movie list"
   ]
  },
  {
   "cell_type": "code",
   "execution_count": 14,
   "metadata": {},
   "outputs": [
    {
     "data": {
      "text/html": [
       "<div>\n",
       "<style scoped>\n",
       "    .dataframe tbody tr th:only-of-type {\n",
       "        vertical-align: middle;\n",
       "    }\n",
       "\n",
       "    .dataframe tbody tr th {\n",
       "        vertical-align: top;\n",
       "    }\n",
       "\n",
       "    .dataframe thead th {\n",
       "        text-align: right;\n",
       "    }\n",
       "</style>\n",
       "<table border=\"1\" class=\"dataframe\">\n",
       "  <thead>\n",
       "    <tr style=\"text-align: right;\">\n",
       "      <th></th>\n",
       "      <th>movieId</th>\n",
       "      <th>title</th>\n",
       "      <th>genres</th>\n",
       "      <th>Predictions</th>\n",
       "    </tr>\n",
       "  </thead>\n",
       "  <tbody>\n",
       "    <tr>\n",
       "      <th>246</th>\n",
       "      <td>296</td>\n",
       "      <td>Pulp Fiction (1994)</td>\n",
       "      <td>Comedy|Crime|Drama|Thriller</td>\n",
       "      <td>2.190762</td>\n",
       "    </tr>\n",
       "    <tr>\n",
       "      <th>487</th>\n",
       "      <td>590</td>\n",
       "      <td>Dances with Wolves (1990)</td>\n",
       "      <td>Adventure|Drama|Western</td>\n",
       "      <td>1.924099</td>\n",
       "    </tr>\n",
       "    <tr>\n",
       "      <th>294</th>\n",
       "      <td>356</td>\n",
       "      <td>Forrest Gump (1994)</td>\n",
       "      <td>Comedy|Drama|Romance|War</td>\n",
       "      <td>1.732990</td>\n",
       "    </tr>\n",
       "    <tr>\n",
       "      <th>40</th>\n",
       "      <td>47</td>\n",
       "      <td>Seven (a.k.a. Se7en) (1995)</td>\n",
       "      <td>Mystery|Thriller</td>\n",
       "      <td>1.579084</td>\n",
       "    </tr>\n",
       "    <tr>\n",
       "      <th>316</th>\n",
       "      <td>380</td>\n",
       "      <td>True Lies (1994)</td>\n",
       "      <td>Action|Adventure|Comedy|Romance|Thriller</td>\n",
       "      <td>1.345957</td>\n",
       "    </tr>\n",
       "  </tbody>\n",
       "</table>\n",
       "</div>"
      ],
      "text/plain": [
       "     movieId                        title  \\\n",
       "246      296          Pulp Fiction (1994)   \n",
       "487      590    Dances with Wolves (1990)   \n",
       "294      356          Forrest Gump (1994)   \n",
       "40        47  Seven (a.k.a. Se7en) (1995)   \n",
       "316      380             True Lies (1994)   \n",
       "\n",
       "                                       genres  Predictions  \n",
       "246               Comedy|Crime|Drama|Thriller     2.190762  \n",
       "487                   Adventure|Drama|Western     1.924099  \n",
       "294                  Comedy|Drama|Romance|War     1.732990  \n",
       "40                           Mystery|Thriller     1.579084  \n",
       "316  Action|Adventure|Comedy|Romance|Thriller     1.345957  "
      ]
     },
     "execution_count": 14,
     "metadata": {},
     "output_type": "execute_result"
    }
   ],
   "source": [
    "predictions = AllUserPrediction(preds_df, 330, df_movies, df_ratings, 10)\n",
    "predictions.head()"
   ]
  },
  {
   "cell_type": "markdown",
   "metadata": {},
   "source": [
    "# Generate 'user - time(6hour term)' Matrix"
   ]
  },
  {
   "cell_type": "code",
   "execution_count": 15,
   "metadata": {},
   "outputs": [],
   "source": [
    "def UserTimeMatrix():\n",
    "    \n",
    "    # original dataframe에서 moiveId, rating, drop,\n",
    "    #데이터 불러오는 부분 최소화 하고 싶어서 이 부분 바꿨어!\n",
    "    rd = pd.read_csv('./data/ml-latest-small/ratings.csv')\n",
    "    rd.drop('movieId', axis = 1, inplace = True)\n",
    "    rd.drop('rating', axis = 1, inplace = True)\n",
    "    # timestamp2datetime\n",
    "    rd['Hour_6']=[datetime.fromtimestamp(x).strftime('%H') for x in rd['timestamp']]\n",
    "    rd.drop('timestamp', axis = 1, inplace = True)\n",
    "    rd = rd.reindex(columns=['Hour_6','userId'])\n",
    "    # datetime 기준으로 정렬\n",
    "    rd = rd.sort_values(by='Hour_6')\n",
    "    \n",
    "    # datetime2Hour_6term\n",
    "    rd.loc[(rd['Hour_6']==\"00\") | (rd[\"Hour_6\"]==\"01\") | \n",
    "           (rd[\"Hour_6\"]==\"02\") | (rd[\"Hour_6\"]==\"03\"),\"Hour_6\"] = \"h1\"\n",
    "    rd.loc[(rd['Hour_6']==\"04\") | (rd[\"Hour_6\"]==\"05\") | \n",
    "           (rd[\"Hour_6\"]==\"06\") | (rd[\"Hour_6\"]==\"07\"),\"Hour_6\"] = \"h2\"\n",
    "    rd.loc[(rd['Hour_6']==\"08\") | (rd[\"Hour_6\"]==\"09\") | \n",
    "           (rd[\"Hour_6\"]==\"10\") | (rd[\"Hour_6\"]==\"11\"),\"Hour_6\"] = \"h3\"\n",
    "    rd.loc[(rd['Hour_6']==\"12\") | (rd[\"Hour_6\"]==\"13\") | \n",
    "           (rd[\"Hour_6\"]==\"14\") | (rd[\"Hour_6\"]==\"15\"),\"Hour_6\"] = \"h4\"\n",
    "    rd.loc[(rd['Hour_6']==\"16\") | (rd[\"Hour_6\"]==\"17\") | \n",
    "           (rd[\"Hour_6\"]==\"18\") | (rd[\"Hour_6\"]==\"19\"),\"Hour_6\"] = \"h5\"\n",
    "    rd.loc[(rd['Hour_6']==\"20\") | (rd[\"Hour_6\"]==\"21\") | \n",
    "           (rd[\"Hour_6\"]==\"22\") | (rd[\"Hour_6\"]==\"23\"),\"Hour_6\"] = \"h6\"\n",
    "    \n",
    "    rd=rd.drop_duplicates(['userId'], keep='first', ignore_index='True')\n",
    "    rd = rd.sort_values(by='userId')\n",
    "    return rd"
   ]
  },
  {
   "cell_type": "code",
   "execution_count": 16,
   "metadata": {},
   "outputs": [
    {
     "data": {
      "text/html": [
       "<div>\n",
       "<style scoped>\n",
       "    .dataframe tbody tr th:only-of-type {\n",
       "        vertical-align: middle;\n",
       "    }\n",
       "\n",
       "    .dataframe tbody tr th {\n",
       "        vertical-align: top;\n",
       "    }\n",
       "\n",
       "    .dataframe thead th {\n",
       "        text-align: right;\n",
       "    }\n",
       "</style>\n",
       "<table border=\"1\" class=\"dataframe\">\n",
       "  <thead>\n",
       "    <tr style=\"text-align: right;\">\n",
       "      <th></th>\n",
       "      <th>Hour_6</th>\n",
       "      <th>userId</th>\n",
       "    </tr>\n",
       "  </thead>\n",
       "  <tbody>\n",
       "    <tr>\n",
       "      <th>472</th>\n",
       "      <td>h3</td>\n",
       "      <td>1</td>\n",
       "    </tr>\n",
       "    <tr>\n",
       "      <th>614</th>\n",
       "      <td>h6</td>\n",
       "      <td>2</td>\n",
       "    </tr>\n",
       "    <tr>\n",
       "      <th>297</th>\n",
       "      <td>h2</td>\n",
       "      <td>3</td>\n",
       "    </tr>\n",
       "    <tr>\n",
       "      <th>223</th>\n",
       "      <td>h1</td>\n",
       "      <td>4</td>\n",
       "    </tr>\n",
       "    <tr>\n",
       "      <th>407</th>\n",
       "      <td>h3</td>\n",
       "      <td>5</td>\n",
       "    </tr>\n",
       "  </tbody>\n",
       "</table>\n",
       "</div>"
      ],
      "text/plain": [
       "    Hour_6  userId\n",
       "472     h3       1\n",
       "614     h6       2\n",
       "297     h2       3\n",
       "223     h1       4\n",
       "407     h3       5"
      ]
     },
     "execution_count": 16,
     "metadata": {},
     "output_type": "execute_result"
    }
   ],
   "source": [
    "M1 = UserTimeMatrix()\n",
    "M1.head()"
   ]
  },
  {
   "cell_type": "markdown",
   "metadata": {},
   "source": [
    "# Generate 'user - prediction(top 5)' Matrix"
   ]
  },
  {
   "cell_type": "code",
   "execution_count": 17,
   "metadata": {},
   "outputs": [],
   "source": [
    "def UserPredictionMatrix(df_ratings, df_movies):\n",
    "    \n",
    "    user_title = {}\n",
    "    for i in range(1, df_ratings['userId'].max()+1):\n",
    "        predictions = AllUserPrediction(preds_df, i, df_movies, df_ratings, 10)\n",
    "        df = predictions[:5]\n",
    "        title = df[['title']]\n",
    "        #title.drop(index='userId')\n",
    "        title.reset_index(drop=True)\n",
    "        title.rename(columns = {\"title\": i}, inplace = True)\n",
    "        dict_from_df = title.to_dict('list')\n",
    "        user_title.update(dict_from_df)\n",
    "    df = pd.DataFrame(user_title)\n",
    "    df = pd.DataFrame(list(user_title.items()),columns =['userId','title'])\n",
    "    \n",
    "    return df"
   ]
  },
  {
   "cell_type": "code",
   "execution_count": 18,
   "metadata": {},
   "outputs": [
    {
     "data": {
      "text/html": [
       "<div>\n",
       "<style scoped>\n",
       "    .dataframe tbody tr th:only-of-type {\n",
       "        vertical-align: middle;\n",
       "    }\n",
       "\n",
       "    .dataframe tbody tr th {\n",
       "        vertical-align: top;\n",
       "    }\n",
       "\n",
       "    .dataframe thead th {\n",
       "        text-align: right;\n",
       "    }\n",
       "</style>\n",
       "<table border=\"1\" class=\"dataframe\">\n",
       "  <thead>\n",
       "    <tr style=\"text-align: right;\">\n",
       "      <th></th>\n",
       "      <th>userId</th>\n",
       "      <th>title</th>\n",
       "    </tr>\n",
       "  </thead>\n",
       "  <tbody>\n",
       "    <tr>\n",
       "      <th>0</th>\n",
       "      <td>1</td>\n",
       "      <td>[Star Trek II: The Wrath of Khan (1982), Rocky...</td>\n",
       "    </tr>\n",
       "    <tr>\n",
       "      <th>1</th>\n",
       "      <td>2</td>\n",
       "      <td>[True Lies (1994), Shawshank Redemption, The (...</td>\n",
       "    </tr>\n",
       "    <tr>\n",
       "      <th>2</th>\n",
       "      <td>3</td>\n",
       "      <td>[Matrix, The (1999), Lord of the Rings: The Fe...</td>\n",
       "    </tr>\n",
       "    <tr>\n",
       "      <th>3</th>\n",
       "      <td>4</td>\n",
       "      <td>[Beauty and the Beast (1991), Raising Arizona ...</td>\n",
       "    </tr>\n",
       "    <tr>\n",
       "      <th>4</th>\n",
       "      <td>5</td>\n",
       "      <td>[Men in Black (a.k.a. MIB) (1997), Sleepless i...</td>\n",
       "    </tr>\n",
       "  </tbody>\n",
       "</table>\n",
       "</div>"
      ],
      "text/plain": [
       "   userId                                              title\n",
       "0       1  [Star Trek II: The Wrath of Khan (1982), Rocky...\n",
       "1       2  [True Lies (1994), Shawshank Redemption, The (...\n",
       "2       3  [Matrix, The (1999), Lord of the Rings: The Fe...\n",
       "3       4  [Beauty and the Beast (1991), Raising Arizona ...\n",
       "4       5  [Men in Black (a.k.a. MIB) (1997), Sleepless i..."
      ]
     },
     "execution_count": 18,
     "metadata": {},
     "output_type": "execute_result"
    }
   ],
   "source": [
    "M2 = UserPredictionMatrix(df_ratings, df_movies)\n",
    "M2.head()"
   ]
  },
  {
   "cell_type": "markdown",
   "metadata": {},
   "source": [
    "# Merge 'time-user' Matrix and 'user - prediction(top 5)' Matrix"
   ]
  },
  {
   "cell_type": "code",
   "execution_count": 19,
   "metadata": {},
   "outputs": [],
   "source": [
    "def TimeUserMovieMatrix(M1,M2):\n",
    "    time_user_movie=pd.merge(M1,M2,on='userId')\n",
    "    time_user_movie=time_user_movie.sort_values(by='Hour_6', ignore_index='True')\n",
    "    \n",
    "    return time_user_movie"
   ]
  },
  {
   "cell_type": "code",
   "execution_count": 20,
   "metadata": {},
   "outputs": [
    {
     "data": {
      "text/html": [
       "<div>\n",
       "<style scoped>\n",
       "    .dataframe tbody tr th:only-of-type {\n",
       "        vertical-align: middle;\n",
       "    }\n",
       "\n",
       "    .dataframe tbody tr th {\n",
       "        vertical-align: top;\n",
       "    }\n",
       "\n",
       "    .dataframe thead th {\n",
       "        text-align: right;\n",
       "    }\n",
       "</style>\n",
       "<table border=\"1\" class=\"dataframe\">\n",
       "  <thead>\n",
       "    <tr style=\"text-align: right;\">\n",
       "      <th></th>\n",
       "      <th>Hour_6</th>\n",
       "      <th>userId</th>\n",
       "      <th>title</th>\n",
       "    </tr>\n",
       "  </thead>\n",
       "  <tbody>\n",
       "    <tr>\n",
       "      <th>0</th>\n",
       "      <td>h1</td>\n",
       "      <td>336</td>\n",
       "      <td>[Shawshank Redemption, The (1994), One Flew Ov...</td>\n",
       "    </tr>\n",
       "    <tr>\n",
       "      <th>1</th>\n",
       "      <td>h1</td>\n",
       "      <td>371</td>\n",
       "      <td>[Schindler's List (1993), Godfather, The (1972...</td>\n",
       "    </tr>\n",
       "    <tr>\n",
       "      <th>2</th>\n",
       "      <td>h1</td>\n",
       "      <td>369</td>\n",
       "      <td>[Silence of the Lambs, The (1991), Crimson Tid...</td>\n",
       "    </tr>\n",
       "    <tr>\n",
       "      <th>3</th>\n",
       "      <td>h1</td>\n",
       "      <td>367</td>\n",
       "      <td>[Star Wars: Episode VI - Return of the Jedi (1...</td>\n",
       "    </tr>\n",
       "    <tr>\n",
       "      <th>4</th>\n",
       "      <td>h1</td>\n",
       "      <td>365</td>\n",
       "      <td>[Lord of the Rings: The Two Towers, The (2002)...</td>\n",
       "    </tr>\n",
       "  </tbody>\n",
       "</table>\n",
       "</div>"
      ],
      "text/plain": [
       "  Hour_6  userId                                              title\n",
       "0     h1     336  [Shawshank Redemption, The (1994), One Flew Ov...\n",
       "1     h1     371  [Schindler's List (1993), Godfather, The (1972...\n",
       "2     h1     369  [Silence of the Lambs, The (1991), Crimson Tid...\n",
       "3     h1     367  [Star Wars: Episode VI - Return of the Jedi (1...\n",
       "4     h1     365  [Lord of the Rings: The Two Towers, The (2002)..."
      ]
     },
     "execution_count": 20,
     "metadata": {},
     "output_type": "execute_result"
    }
   ],
   "source": [
    "M3=TimeUserMovieMatrix(M1,M2)\n",
    "M3.head()"
   ]
  },
  {
   "cell_type": "markdown",
   "metadata": {},
   "source": [
    "# Enter time and movie name"
   ]
  },
  {
   "cell_type": "code",
   "execution_count": 21,
   "metadata": {},
   "outputs": [],
   "source": [
    "def Time_MovieName():\n",
    "    #time=int(input(\"time: \"))\n",
    "    #movie= [input(\"movie: \")]\n",
    "    #이거 입력하기 번거로워서 우선 아무 값 설정해둠!\n",
    "    time=1\n",
    "    movie=[\"Toy Story (1995)\"]\n",
    "    \n",
    "    if (time>=0 & time<4): time='h1'\n",
    "    elif (time>=4 & time<8): time='h2'\n",
    "    elif (time>=8 & time<12): time='h3'\n",
    "    elif (time>=12 & time<16): time='h4'\n",
    "    elif (time>=16 & time<20): time='h5'\n",
    "    elif (time>=20 & time<24): time='h6'\n",
    "    else: print(\"error\")\n",
    "   \n",
    "    return time, movie"
   ]
  },
  {
   "cell_type": "markdown",
   "metadata": {},
   "source": [
    "# Print the result"
   ]
  },
  {
   "cell_type": "code",
   "execution_count": 22,
   "metadata": {},
   "outputs": [],
   "source": [
    "#이거는 M1+M2 합쳐진 M3 사용할 때!\n",
    "def main(M3):\n",
    "    time, movie=Time_MovieName()\n",
    "    #이 부분에서 뒤에 시간 조건문만 새로 달았음!\n",
    "    m = M3[\"title\"].apply(lambda s: len(set(s) & set(movie)) > 0) & (M3[\"Hour_6\"]==time)\n",
    "    \n",
    "    #유저 아이디 크기별로 정렬\n",
    "    M3=M3[m].sort_values(by='userId', ignore_index='True')\n",
    "    return M3"
   ]
  },
  {
   "cell_type": "code",
   "execution_count": 23,
   "metadata": {},
   "outputs": [
    {
     "data": {
      "text/plain": [
       "'def main(M1,M2):\\n    M3 = pd.merge(M1, M2, on=\"userId\")\\n    M3 = M3.drop_duplicates([\"userId\"])\\n    \\n    time, movie=Time_MovieName()\\n    #이 부분에서 뒤에 시간 조건문만 새로 달았음!\\n    m = M3[\"title\"].apply(lambda s: len(set(s) & set(movie)) > 0) & (M3[\"Hour_6\"]==time)\\n    \\n    #유저 아이디 크기별로 정렬\\n    M3=M3[m].sort_values(by=\\'userId\\', ignore_index=\\'True\\')\\n    return M3'"
      ]
     },
     "execution_count": 23,
     "metadata": {},
     "output_type": "execute_result"
    }
   ],
   "source": [
    "#만약 M1, M2 미리 안합치고 분리된 채로 쓸 때\n",
    "'''def main(M1,M2):\n",
    "    M3 = pd.merge(M1, M2, on=\"userId\")\n",
    "    M3 = M3.drop_duplicates([\"userId\"])\n",
    "    \n",
    "    time, movie=Time_MovieName()\n",
    "    #이 부분에서 뒤에 시간 조건문만 새로 달았음!\n",
    "    m = M3[\"title\"].apply(lambda s: len(set(s) & set(movie)) > 0) & (M3[\"Hour_6\"]==time)\n",
    "    \n",
    "    #유저 아이디 크기별로 정렬\n",
    "    M3=M3[m].sort_values(by='userId', ignore_index='True')\n",
    "    return M3'''"
   ]
  },
  {
   "cell_type": "code",
   "execution_count": 24,
   "metadata": {},
   "outputs": [
    {
     "data": {
      "text/html": [
       "<div>\n",
       "<style scoped>\n",
       "    .dataframe tbody tr th:only-of-type {\n",
       "        vertical-align: middle;\n",
       "    }\n",
       "\n",
       "    .dataframe tbody tr th {\n",
       "        vertical-align: top;\n",
       "    }\n",
       "\n",
       "    .dataframe thead th {\n",
       "        text-align: right;\n",
       "    }\n",
       "</style>\n",
       "<table border=\"1\" class=\"dataframe\">\n",
       "  <thead>\n",
       "    <tr style=\"text-align: right;\">\n",
       "      <th></th>\n",
       "      <th>Hour_6</th>\n",
       "      <th>userId</th>\n",
       "      <th>title</th>\n",
       "    </tr>\n",
       "  </thead>\n",
       "  <tbody>\n",
       "    <tr>\n",
       "      <th>0</th>\n",
       "      <td>h1</td>\n",
       "      <td>61</td>\n",
       "      <td>[Toy Story (1995), Good Will Hunting (1997), Eternal Sunshine of the Spotless Mind (2004), Truman Show, The (1998), Apollo 13 (1995)]</td>\n",
       "    </tr>\n",
       "    <tr>\n",
       "      <th>1</th>\n",
       "      <td>h1</td>\n",
       "      <td>190</td>\n",
       "      <td>[Fight Club (1999), Blair Witch Project, The (1999), Toy Story (1995), Bug's Life, A (1998), Casino (1995)]</td>\n",
       "    </tr>\n",
       "    <tr>\n",
       "      <th>2</th>\n",
       "      <td>h1</td>\n",
       "      <td>234</td>\n",
       "      <td>[Back to the Future (1985), Lion King, The (1994), Eternal Sunshine of the Spotless Mind (2004), Toy Story (1995), Dark Knight, The (2008)]</td>\n",
       "    </tr>\n",
       "    <tr>\n",
       "      <th>3</th>\n",
       "      <td>h1</td>\n",
       "      <td>295</td>\n",
       "      <td>[Toy Story (1995), Groundhog Day (1993), Twelve Monkeys (a.k.a. 12 Monkeys) (1995), Ghost (1990), Aliens (1986)]</td>\n",
       "    </tr>\n",
       "    <tr>\n",
       "      <th>4</th>\n",
       "      <td>h1</td>\n",
       "      <td>394</td>\n",
       "      <td>[Lord of the Rings: The Return of the King, The (2003), Lord of the Rings: The Two Towers, The (2002), Toy Story (1995), American Beauty (1999), Jurassic Park (1993)]</td>\n",
       "    </tr>\n",
       "    <tr>\n",
       "      <th>5</th>\n",
       "      <td>h1</td>\n",
       "      <td>427</td>\n",
       "      <td>[Eternal Sunshine of the Spotless Mind (2004), Pianist, The (2002), Royal Tenenbaums, The (2001), High Fidelity (2000), Toy Story (1995)]</td>\n",
       "    </tr>\n",
       "    <tr>\n",
       "      <th>6</th>\n",
       "      <td>h1</td>\n",
       "      <td>523</td>\n",
       "      <td>[Schindler's List (1993), Back to the Future (1985), Saving Private Ryan (1998), Shrek (2001), Toy Story (1995)]</td>\n",
       "    </tr>\n",
       "    <tr>\n",
       "      <th>7</th>\n",
       "      <td>h1</td>\n",
       "      <td>550</td>\n",
       "      <td>[Toy Story (1995), Star Wars: Episode IV - A New Hope (1977), Back to the Future (1985), Blade Runner (1982), Usual Suspects, The (1995)]</td>\n",
       "    </tr>\n",
       "    <tr>\n",
       "      <th>8</th>\n",
       "      <td>h1</td>\n",
       "      <td>640</td>\n",
       "      <td>[Rock, The (1996), Toy Story (1995), Twelve Monkeys (a.k.a. 12 Monkeys) (1995), Phenomenon (1996), Ransom (1996)]</td>\n",
       "    </tr>\n",
       "    <tr>\n",
       "      <th>9</th>\n",
       "      <td>h1</td>\n",
       "      <td>659</td>\n",
       "      <td>[Toy Story (1995), Babe (1995), Beauty and the Beast (1991), Clear and Present Danger (1994), Interview with the Vampire: The Vampire Chronicles (1994)]</td>\n",
       "    </tr>\n",
       "  </tbody>\n",
       "</table>\n",
       "</div>"
      ],
      "text/plain": [
       "  Hour_6  userId  \\\n",
       "0     h1      61   \n",
       "1     h1     190   \n",
       "2     h1     234   \n",
       "3     h1     295   \n",
       "4     h1     394   \n",
       "5     h1     427   \n",
       "6     h1     523   \n",
       "7     h1     550   \n",
       "8     h1     640   \n",
       "9     h1     659   \n",
       "\n",
       "                                                                                                                                                                    title  \n",
       "0                                   [Toy Story (1995), Good Will Hunting (1997), Eternal Sunshine of the Spotless Mind (2004), Truman Show, The (1998), Apollo 13 (1995)]  \n",
       "1                                                             [Fight Club (1999), Blair Witch Project, The (1999), Toy Story (1995), Bug's Life, A (1998), Casino (1995)]  \n",
       "2                             [Back to the Future (1985), Lion King, The (1994), Eternal Sunshine of the Spotless Mind (2004), Toy Story (1995), Dark Knight, The (2008)]  \n",
       "3                                                        [Toy Story (1995), Groundhog Day (1993), Twelve Monkeys (a.k.a. 12 Monkeys) (1995), Ghost (1990), Aliens (1986)]  \n",
       "4  [Lord of the Rings: The Return of the King, The (2003), Lord of the Rings: The Two Towers, The (2002), Toy Story (1995), American Beauty (1999), Jurassic Park (1993)]  \n",
       "5                               [Eternal Sunshine of the Spotless Mind (2004), Pianist, The (2002), Royal Tenenbaums, The (2001), High Fidelity (2000), Toy Story (1995)]  \n",
       "6                                                        [Schindler's List (1993), Back to the Future (1985), Saving Private Ryan (1998), Shrek (2001), Toy Story (1995)]  \n",
       "7                               [Toy Story (1995), Star Wars: Episode IV - A New Hope (1977), Back to the Future (1985), Blade Runner (1982), Usual Suspects, The (1995)]  \n",
       "8                                                       [Rock, The (1996), Toy Story (1995), Twelve Monkeys (a.k.a. 12 Monkeys) (1995), Phenomenon (1996), Ransom (1996)]  \n",
       "9                [Toy Story (1995), Babe (1995), Beauty and the Beast (1991), Clear and Present Danger (1994), Interview with the Vampire: The Vampire Chronicles (1994)]  "
      ]
     },
     "execution_count": 24,
     "metadata": {},
     "output_type": "execute_result"
    }
   ],
   "source": [
    "pd.set_option('display.max.colwidth', 200)\n",
    "main(M3)\n",
    "#main(M1,M2)"
   ]
  }
 ],
 "metadata": {
  "kernelspec": {
   "display_name": "Python 3",
   "language": "python",
   "name": "python3"
  },
  "language_info": {
   "codemirror_mode": {
    "name": "ipython",
    "version": 3
   },
   "file_extension": ".py",
   "mimetype": "text/x-python",
   "name": "python",
   "nbconvert_exporter": "python",
   "pygments_lexer": "ipython3",
   "version": "3.8.5"
  }
 },
 "nbformat": 4,
 "nbformat_minor": 5
}
